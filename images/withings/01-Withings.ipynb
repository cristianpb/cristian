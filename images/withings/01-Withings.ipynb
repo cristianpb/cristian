{
 "cells": [
  {
   "cell_type": "code",
   "execution_count": 122,
   "metadata": {
    "collapsed": true
   },
   "outputs": [],
   "source": [
    "import pandas as pd\n",
    "import matplotlib.pyplot as plt\n",
    "import numpy as np\n",
    "import json\n",
    "from IPython.display import HTML"
   ]
  },
  {
   "cell_type": "code",
   "execution_count": 2,
   "metadata": {
    "collapsed": true
   },
   "outputs": [],
   "source": [
    "df = pd.read_csv('input/activities.csv', parse_dates=[0])"
   ]
  },
  {
   "cell_type": "code",
   "execution_count": 3,
   "metadata": {},
   "outputs": [
    {
     "name": "stdout",
     "output_type": "stream",
     "text": [
      "(428, 5)\n"
     ]
    },
    {
     "data": {
      "text/html": [
       "<div>\n",
       "<style>\n",
       "    .dataframe thead tr:only-child th {\n",
       "        text-align: right;\n",
       "    }\n",
       "\n",
       "    .dataframe thead th {\n",
       "        text-align: left;\n",
       "    }\n",
       "\n",
       "    .dataframe tbody tr th {\n",
       "        vertical-align: top;\n",
       "    }\n",
       "</style>\n",
       "<table border=\"1\" class=\"dataframe\">\n",
       "  <thead>\n",
       "    <tr style=\"text-align: right;\">\n",
       "      <th></th>\n",
       "      <th>Date</th>\n",
       "      <th>Steps</th>\n",
       "      <th>Distance (m)</th>\n",
       "      <th>Elevation (m)</th>\n",
       "      <th>Active calories</th>\n",
       "    </tr>\n",
       "  </thead>\n",
       "  <tbody>\n",
       "    <tr>\n",
       "      <th>0</th>\n",
       "      <td>2017-08-15</td>\n",
       "      <td>153</td>\n",
       "      <td>120.360</td>\n",
       "      <td>0</td>\n",
       "      <td>4</td>\n",
       "    </tr>\n",
       "    <tr>\n",
       "      <th>1</th>\n",
       "      <td>2017-08-14</td>\n",
       "      <td>10698</td>\n",
       "      <td>9666.177</td>\n",
       "      <td>0</td>\n",
       "      <td>372</td>\n",
       "    </tr>\n",
       "    <tr>\n",
       "      <th>2</th>\n",
       "      <td>2017-08-13</td>\n",
       "      <td>10871</td>\n",
       "      <td>8683.468</td>\n",
       "      <td>0</td>\n",
       "      <td>311</td>\n",
       "    </tr>\n",
       "    <tr>\n",
       "      <th>3</th>\n",
       "      <td>2017-08-12</td>\n",
       "      <td>20101</td>\n",
       "      <td>22102.342</td>\n",
       "      <td>0</td>\n",
       "      <td>1358</td>\n",
       "    </tr>\n",
       "    <tr>\n",
       "      <th>4</th>\n",
       "      <td>2017-08-11</td>\n",
       "      <td>7157</td>\n",
       "      <td>5614.810</td>\n",
       "      <td>0</td>\n",
       "      <td>196</td>\n",
       "    </tr>\n",
       "  </tbody>\n",
       "</table>\n",
       "</div>"
      ],
      "text/plain": [
       "        Date  Steps  Distance (m)  Elevation (m)  Active calories\n",
       "0 2017-08-15    153       120.360              0                4\n",
       "1 2017-08-14  10698      9666.177              0              372\n",
       "2 2017-08-13  10871      8683.468              0              311\n",
       "3 2017-08-12  20101     22102.342              0             1358\n",
       "4 2017-08-11   7157      5614.810              0              196"
      ]
     },
     "execution_count": 3,
     "metadata": {},
     "output_type": "execute_result"
    }
   ],
   "source": [
    "print(df.shape)\n",
    "df.head()"
   ]
  },
  {
   "cell_type": "markdown",
   "metadata": {},
   "source": [
    "# Daily steps calendar heatmap"
   ]
  },
  {
   "cell_type": "code",
   "execution_count": 4,
   "metadata": {
    "collapsed": true
   },
   "outputs": [],
   "source": [
    "df_steps = pd.concat([df.Date.dt.strftime(\"%s\"), df.Steps], axis=1)"
   ]
  },
  {
   "cell_type": "code",
   "execution_count": 5,
   "metadata": {
    "collapsed": true
   },
   "outputs": [],
   "source": [
    "dic_steps = dict()\n",
    "for k,x in df_steps.iterrows():\n",
    "    dic_steps[x['Date']] = x['Steps']"
   ]
  },
  {
   "cell_type": "code",
   "execution_count": 25,
   "metadata": {
    "collapsed": true
   },
   "outputs": [],
   "source": [
    "html_code =\"\"\"\n",
    "<script type=\"text/javascript\" src=\"//d3js.org/d3.v3.min.js\"></script>\n",
    "<script type=\"text/javascript\" src=\"//cdn.jsdelivr.net/cal-heatmap/3.3.10/cal-heatmap.min.js\"></script>\n",
    "<link rel=\"stylesheet\" href=\"//cdn.jsdelivr.net/cal-heatmap/3.3.10/cal-heatmap.css\" />\n",
    "<div id=\"cal-heatmap\"></div>\n",
    "<button id=\"example-c-PreviousDomain-selector\" style=\"margin-bottom: 10px;\" class=\"btn\"><i class=\"icon icon-chevron-left\"></i></button>\n",
    "<button id=\"example-c-NextDomain-selector\" style=\"margin-bottom: 10px;\" class=\"btn\"><i class=\"icon icon-chevron-right\"></i></button>\n",
    "<script type=\"text/javascript\">\n",
    "    var cal = new CalHeatMap();\n",
    "    cal.init({\n",
    "        start: new Date(2016, 3, 1, 1), // January, 1st 2000\n",
    "        range: 12,\n",
    "        domain: \"month\",\n",
    "        subDomain: \"day\",\n",
    "        nextSelector: \"#example-c-NextDomain-selector\",\n",
    "        previousSelector: \"#example-c-PreviousDomain-selector\",\n",
    "        data: %s,\n",
    "        legend: [3000, 7000, 10000, 15000, 20000],\n",
    "        legendColors: [\"#ecf5e2\", \"#232181\"]\n",
    "    });\n",
    "</script>\"\"\" % dic_steps"
   ]
  },
  {
   "cell_type": "code",
   "execution_count": 26,
   "metadata": {},
   "outputs": [
    {
     "data": {
      "text/html": [
       "\n",
       "<script type=\"text/javascript\" src=\"//d3js.org/d3.v3.min.js\"></script>\n",
       "<script type=\"text/javascript\" src=\"//cdn.jsdelivr.net/cal-heatmap/3.3.10/cal-heatmap.min.js\"></script>\n",
       "<link rel=\"stylesheet\" href=\"//cdn.jsdelivr.net/cal-heatmap/3.3.10/cal-heatmap.css\" />\n",
       "<div id=\"cal-heatmap\"></div>\n",
       "<button id=\"example-c-PreviousDomain-selector\" style=\"margin-bottom: 10px;\" class=\"btn\"><i class=\"icon icon-chevron-left\"></i></button>\n",
       "<button id=\"example-c-NextDomain-selector\" style=\"margin-bottom: 10px;\" class=\"btn\"><i class=\"icon icon-chevron-right\"></i></button>\n",
       "<script type=\"text/javascript\">\n",
       "    var cal = new CalHeatMap();\n",
       "    cal.init({\n",
       "        start: new Date(2016, 3, 1, 1), // January, 1st 2000\n",
       "        range: 12,\n",
       "        domain: \"month\",\n",
       "        subDomain: \"day\",\n",
       "        nextSelector: \"#example-c-NextDomain-selector\",\n",
       "        previousSelector: \"#example-c-PreviousDomain-selector\",\n",
       "        data: {'1502748000': 153, '1502661600': 10698, '1502575200': 10871, '1502488800': 20101, '1502402400': 7157, '1502316000': 8862, '1502229600': 4683, '1502143200': 10240, '1502056800': 5523, '1501970400': 14329, '1501884000': 7515, '1501797600': 4458, '1501711200': 10668, '1501624800': 3788, '1501538400': 8135, '1501452000': 6593, '1501365600': 8098, '1501279200': 13871, '1501192800': 9236, '1501106400': 9507, '1501020000': 8814, '1500933600': 9799, '1500847200': 9709, '1500760800': 8136, '1500674400': 4049, '1500588000': 9127, '1500501600': 9428, '1500415200': 8305, '1500328800': 8211, '1500242400': 12188, '1500156000': 10235, '1500069600': 15758, '1499983200': 15243, '1499896800': 10186, '1499810400': 8330, '1499724000': 15302, '1499637600': 9962, '1499551200': 7789, '1499464800': 12002, '1499378400': 11072, '1499292000': 10693, '1499205600': 11270, '1499119200': 11380, '1499032800': 9096, '1498946400': 7569, '1498860000': 7467, '1498773600': 10089, '1498687200': 14613, '1498600800': 7255, '1498514400': 21692, '1498428000': 18806, '1498341600': 5873, '1498255200': 18729, '1498168800': 14467, '1498082400': 9490, '1497996000': 9918, '1497909600': 12445, '1497823200': 10729, '1497736800': 9121, '1497650400': 11354, '1497564000': 11672, '1497477600': 8567, '1497391200': 3879, '1497304800': 4396, '1497218400': 5083, '1497132000': 6599, '1497045600': 12586, '1496959200': 14480, '1496872800': 6451, '1496786400': 8243, '1496700000': 5733, '1496613600': 6250, '1496527200': 5182, '1496440800': 12209, '1496354400': 7173, '1496268000': 5485, '1496181600': 5020, '1496095200': 4819, '1496008800': 4384, '1495922400': 7223, '1495836000': 6715, '1492466400': 3861, '1492380000': 5206, '1492293600': 7287, '1492207200': 5455, '1492120800': 5212, '1492034400': 5367, '1491948000': 4577, '1491861600': 5407, '1491775200': 4930, '1491688800': 16677, '1491602400': 9192, '1491516000': 16711, '1491429600': 5193, '1491343200': 6900, '1491256800': 4645, '1491170400': 9300, '1491084000': 4553, '1490997600': 7630, '1490911200': 5425, '1490824800': 7589, '1490738400': 6070, '1490652000': 6980, '1490565600': 9348, '1490482800': 16968, '1490396400': 12549, '1490310000': 5951, '1490223600': 6223, '1490137200': 8346, '1490050800': 5785, '1489964400': 5790, '1489878000': 4683, '1489791600': 3843, '1489705200': 6989, '1489618800': 9176, '1489532400': 8973, '1489446000': 6944, '1489359600': 6730, '1489273200': 5512, '1489186800': 9070, '1489100400': 7746, '1489014000': 8585, '1488927600': 6636, '1488841200': 6772, '1488754800': 5330, '1488668400': 8958, '1488582000': 2249, '1488495600': 3842, '1488409200': 10466, '1488322800': 6978, '1488236400': 4336, '1488150000': 4919, '1488063600': 7005, '1487977200': 4862, '1487890800': 5583, '1487804400': 3730, '1487718000': 6256, '1487631600': 6042, '1487545200': 3678, '1487458800': 7333, '1487372400': 5707, '1487286000': 6523, '1487199600': 5988, '1487113200': 4146, '1487026800': 4429, '1486940400': 4335, '1486854000': 4134, '1486767600': 5126, '1486681200': 3571, '1486594800': 4466, '1486508400': 7455, '1486422000': 6414, '1486335600': 10379, '1486249200': 9635, '1486162800': 7185, '1486076400': 5584, '1485990000': 3476, '1485903600': 7161, '1485817200': 3949, '1485730800': 6327, '1485644400': 5589, '1485558000': 2147, '1485471600': 7828, '1485385200': 5535, '1485298800': 6378, '1485212400': 5202, '1485126000': 5995, '1485039600': 7397, '1484953200': 2846, '1484866800': 7638, '1484780400': 8258, '1484694000': 5989, '1484607600': 3475, '1484521200': 5554, '1484434800': 5840, '1484348400': 9654, '1484262000': 8965, '1484175600': 4059, '1484089200': 6517, '1484002800': 8366, '1483916400': 9590, '1483830000': 8001, '1483743600': 8764, '1483657200': 4776, '1483570800': 11531, '1483484400': 13620, '1483398000': 13414, '1483311600': 4284, '1483225200': 8027, '1483138800': 6466, '1483052400': 6056, '1482966000': 6393, '1482879600': 3824, '1482793200': 9534, '1482706800': 7841, '1482620400': 2887, '1482534000': 4681, '1482447600': 7172, '1482361200': 12277, '1482274800': 6676, '1482188400': 8335, '1482102000': 9613, '1482015600': 4665, '1481929200': 6965, '1481842800': 6296, '1481756400': 10764, '1481670000': 5653, '1481583600': 9399, '1481497200': 5180, '1481410800': 9593, '1481324400': 25691, '1481238000': 18896, '1481151600': 15855, '1481065200': 3985, '1480978800': 6280, '1480892400': 4550, '1480806000': 14610, '1480719600': 12905, '1480633200': 10095, '1480546800': 9073, '1480460400': 3025, '1480374000': 3982, '1480287600': 9907, '1480201200': 5771, '1480114800': 14600, '1480028400': 8071, '1479942000': 4079, '1479855600': 4987, '1479769200': 8161, '1479682800': 2815, '1479596400': 16599, '1479510000': 7865, '1479423600': 9249, '1479337200': 3153, '1479250800': 4173, '1479164400': 1554, '1479078000': 7430, '1478991600': 646, '1478905200': 5489, '1478818800': 6815, '1478732400': 10154, '1478646000': 4518, '1478559600': 7003, '1478473200': 2947, '1478386800': 6315, '1478300400': 7516, '1478214000': 5918, '1478127600': 4734, '1478041200': 8073, '1477954800': 13703, '1477868400': 3914, '1477778400': 19248, '1477692000': 14833, '1477605600': 7920, '1477519200': 10361, '1477432800': 6216, '1477346400': 7914, '1477260000': 8717, '1477173600': 8176, '1477087200': 11585, '1477000800': 7674, '1476914400': 8371, '1476828000': 17748, '1476741600': 7203, '1476655200': 13286, '1476568800': 20949, '1476482400': 7907, '1476396000': 8742, '1476309600': 6286, '1476223200': 8389, '1476136800': 7194, '1476050400': 6153, '1475964000': 7518, '1475877600': 26975, '1475791200': 12311, '1475704800': 17700, '1475618400': 9224, '1475532000': 20355, '1475445600': 11484, '1475359200': 15358, '1475272800': 19694, '1475186400': 12765, '1475100000': 12166, '1475013600': 16001, '1474927200': 13920, '1474840800': 10696, '1474754400': 2682, '1474668000': 7571, '1474581600': 11433, '1474495200': 7209, '1474408800': 8005, '1474322400': 7625, '1474236000': 7714, '1474149600': 5921, '1474063200': 2043, '1473976800': 6849, '1473890400': 8761, '1473804000': 5866, '1473717600': 11284, '1473631200': 10331, '1473544800': 12365, '1473458400': 14569, '1473372000': 9867, '1473285600': 10126, '1473199200': 7334, '1473112800': 7208, '1473026400': 7425, '1472940000': 8636, '1472853600': 9299, '1472767200': 10077, '1472680800': 7024, '1472594400': 8376, '1472508000': 5095, '1472421600': 6279, '1472335200': 11757, '1472248800': 25078, '1472162400': 9105, '1472076000': 7636, '1471989600': 6450, '1471903200': 7457, '1471816800': 7557, '1471730400': 25128, '1471644000': 31210, '1471557600': 25130, '1471471200': 33697, '1471384800': 20536, '1471298400': 26636, '1471212000': 27625, '1471125600': 37018, '1471039200': 35577, '1470952800': 14372, '1470866400': 5648, '1470780000': 8318, '1470693600': 7226, '1470607200': 2353, '1470520800': 9961, '1470434400': 8835, '1470348000': 8981, '1470261600': 12211, '1470175200': 14560, '1470088800': 7297, '1470002400': 13051, '1469916000': 11769, '1469829600': 26338, '1469743200': 12052, '1469656800': 14765, '1469570400': 6338, '1469484000': 10012, '1469397600': 16971, '1469311200': 17206, '1469224800': 19103, '1469138400': 20679, '1469052000': 23240, '1468965600': 20219, '1468879200': 11985, '1468792800': 14270, '1468706400': 6452, '1468620000': 14079, '1468533600': 17985, '1468447200': 21223, '1468360800': 15130, '1468274400': 6546, '1468188000': 13773, '1468101600': 8897, '1468015200': 23421, '1467928800': 13813, '1467842400': 6508, '1467756000': 19592, '1467669600': 6620, '1467583200': 12031, '1467496800': 3335, '1467410400': 3525, '1467324000': 9484, '1467237600': 4952, '1467151200': 8853, '1467064800': 5955, '1466978400': 5340, '1466892000': 5901, '1466805600': 8028, '1466719200': 866, '1466632800': 7255, '1466546400': 11993, '1466460000': 16128, '1466373600': 11326, '1466287200': 14479, '1466200800': 12330, '1466114400': 15922, '1466028000': 9243, '1465941600': 6335, '1465855200': 8197, '1465768800': 5594, '1465682400': 10751, '1465596000': 6610, '1465509600': 13374, '1465423200': 8894, '1465336800': 12255, '1465250400': 15502, '1465164000': 7660, '1465077600': 6965, '1464991200': 10949, '1464904800': 8617, '1464818400': 8412, '1464732000': 7452, '1464645600': 10541, '1464559200': 6870, '1464472800': 6110, '1464386400': 19938, '1464300000': 12296, '1464213600': 15623, '1464127200': 15346, '1464040800': 8728, '1463954400': 5328, '1463868000': 9135, '1463781600': 5729, '1463695200': 7721, '1463608800': 10026, '1463522400': 7382, '1463436000': 11231, '1463349600': 26843, '1463263200': 30856, '1463176800': 28547, '1463090400': 8831, '1463004000': 17926, '1462917600': 4810, '1462831200': 11937, '1462744800': 5739, '1462658400': 17582, '1462572000': 15394},\n",
       "        legend: [3000, 7000, 10000, 15000, 20000],\n",
       "        legendColors: [\"#ecf5e2\", \"#232181\"]\n",
       "    });\n",
       "</script>"
      ],
      "text/plain": [
       "<IPython.core.display.HTML object>"
      ]
     },
     "execution_count": 26,
     "metadata": {},
     "output_type": "execute_result"
    }
   ],
   "source": [
    "HTML(html_code)"
   ]
  },
  {
   "cell_type": "markdown",
   "metadata": {},
   "source": [
    "# Steps per day scatter plot"
   ]
  },
  {
   "cell_type": "code",
   "execution_count": 28,
   "metadata": {
    "collapsed": true
   },
   "outputs": [],
   "source": [
    "list_steps = []\n",
    "for k,x in df.iterrows():\n",
    "    list_steps.append({'x': x['Date'].strftime(\"%Y-%m-%d\"), 'y': x['Steps']})"
   ]
  },
  {
   "cell_type": "markdown",
   "metadata": {},
   "source": [
    "## Mean steps"
   ]
  },
  {
   "cell_type": "code",
   "execution_count": 42,
   "metadata": {
    "collapsed": true
   },
   "outputs": [],
   "source": [
    "x=df['Date'].dt.strftime(\"%s\").astype('int').values\n",
    "y=df['Steps'].values\n",
    "num_samples = 100\n",
    "p, cov = np.polyfit(x, y, 3, cov=True)\n",
    "z = np.poly1d(p)\n",
    "\n",
    "xi = np.linspace(np.min(x), np.max(x), num_samples)\n",
    "yi = z(xi)"
   ]
  },
  {
   "cell_type": "code",
   "execution_count": 43,
   "metadata": {
    "collapsed": true
   },
   "outputs": [],
   "source": [
    "list_mean_steps = []\n",
    "list_upper_steps = []\n",
    "list_lower_steps = []\n",
    "for i in range(num_samples):\n",
    "    list_mean_steps.append({'x': pd.to_datetime(xi, unit='s', errors='ignore')[i].strftime(\"%Y-%m-%d\"), 'y': np.round(yi[i])})\n",
    "    list_upper_steps.append({'x': pd.to_datetime(xi, unit='s', errors='ignore')[i].strftime(\"%Y-%m-%d\"), 'y': np.round(yi[i]+np.percentile(df['Steps'],2.5))})\n",
    "    list_lower_steps.append({'x': pd.to_datetime(xi, unit='s', errors='ignore')[i].strftime(\"%Y-%m-%d\"), 'y': np.round(yi[i]-np.percentile(df['Steps'],2.5))})"
   ]
  },
  {
   "cell_type": "code",
   "execution_count": 86,
   "metadata": {},
   "outputs": [
    {
     "data": {
      "image/png": "[encoded data removed]",
      "text/plain": [
       "<matplotlib.figure.Figure at 0x7fd12ffb50f0>"
      ]
     },
     "metadata": {},
     "output_type": "display_data"
    }
   ],
   "source": [
    "plt.figure(figsize=(15,3))\n",
    "plt.scatter(x=[pd.to_datetime(x['x'], format='%Y-%m-%d') for x in list_steps], y=[x['y'] for x in list_steps], s=4)\n",
    "plt.plot([pd.to_datetime(x['x'], format='%Y-%m-%d') for x in list_mean_steps], [x['y'] for x in list_mean_steps], '-r')\n",
    "plt.plot([pd.to_datetime(x['x'], format='%Y-%m-%d') for x in list_upper_steps], [x['y'] for x in list_upper_steps], '-')\n",
    "plt.plot([pd.to_datetime(x['x'], format='%Y-%m-%d') for x in list_lower_steps], [x['y'] for x in list_lower_steps], '-')\n",
    "plt.show()"
   ]
  },
  {
   "cell_type": "markdown",
   "metadata": {},
   "source": [
    "# Average steps per day and month"
   ]
  },
  {
   "cell_type": "code",
   "execution_count": 116,
   "metadata": {},
   "outputs": [
    {
     "data": {
      "image/png": "[encoded data removed]",
      "text/plain": [
       "<matplotlib.figure.Figure at 0x7fd12fa69a20>"
      ]
     },
     "metadata": {},
     "output_type": "display_data"
    }
   ],
   "source": [
    "plt.errorbar(df.groupby(df['Date'].dt.dayofweek).agg({'Steps':np.mean}).round(2).index, df.groupby(df['Date'].dt.dayofweek).agg({'Steps':np.mean}).round(2).values, yerr=df.groupby(df['Date'].dt.dayofweek).agg({'Steps':np.std}).round(2).values, xerr=0,  fmt='--o', lolims=1, uplims=1)\n",
    "plt.show()"
   ]
  },
  {
   "cell_type": "code",
   "execution_count": 113,
   "metadata": {},
   "outputs": [
    {
     "data": {
      "image/png": "[encoded data removed]",
      "text/plain": [
       "<matplotlib.figure.Figure at 0x7fd12f9b4390>"
      ]
     },
     "metadata": {},
     "output_type": "display_data"
    }
   ],
   "source": [
    "plt.errorbar(df.groupby(df['Date'].dt.month).agg({'Steps':np.mean}).round(2).index, df.groupby(df['Date'].dt.month).agg({'Steps':np.mean}).round(2).values, yerr=df.groupby(df['Date'].dt.month).agg({'Steps':np.std}).round(2).values, xerr=0,  fmt='--o', lolims=1, uplims=1,)\n",
    "plt.show()"
   ]
  },
  {
   "cell_type": "markdown",
   "metadata": {},
   "source": [
    "# Export to csv"
   ]
  },
  {
   "cell_type": "code",
   "execution_count": 121,
   "metadata": {},
   "outputs": [],
   "source": [
    "with open('output/withings_steps.json', 'w') as outfile:\n",
    "    json.dump({'steps_mean_low': list_lower_steps,\n",
    "               'steps_mean_high': list_upper_steps,\n",
    "               'steps_mean': list_mean_steps,\n",
    "               'steps_points': list_steps,\n",
    "               'steps_heatmap': dic_steps,\n",
    "               'steps_month': [x[0] for x in df.groupby(df['Date'].dt.month).agg({'Steps':np.mean}).round(1).values ],\n",
    "              'steps_weekday': [x[0] for x in df.groupby(df['Date'].dt.dayofweek).agg({'Steps':np.mean}).round(1).values]\n",
    "              }, outfile, indent=1)"
   ]
  }
 ],
 "metadata": {
  "kernelspec": {
   "display_name": "Python 3",
   "language": "python",
   "name": "python3"
  },
  "language_info": {
   "codemirror_mode": {
    "name": "ipython",
    "version": 3
   },
   "file_extension": ".py",
   "mimetype": "text/x-python",
   "name": "python",
   "nbconvert_exporter": "python",
   "pygments_lexer": "ipython3",
   "version": "3.6.2"
  }
 },
 "nbformat": 4,
 "nbformat_minor": 1
}
